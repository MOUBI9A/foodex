{
 "cells": [
  {
   "cell_type": "code",
   "execution_count": null,
   "id": "85f79c8e",
   "metadata": {
    "vscode": {
     "languageId": "dart"
    }
   },
   "outputs": [],
   "source": [
    "// Private router widget to bridge from presentation layer to feature screen.\n",
    "import 'package:flutter/material.dart';\n",
    "import 'package:flutter_riverpod/flutter_riverpod.dart';\n",
    "import 'package:food_delivery/features/chef/screens/inventory_screen.dart';\n",
    "\n",
    "class _InventoryRouter extends StatelessWidget {\n",
    "  const _InventoryRouter();\n",
    "  @override\n",
    "  Widget build(BuildContext context) => const InventoryScreen();\n",
    "}\n"
   ]
  }
 ],
 "metadata": {
  "language_info": {
   "name": "python"
  }
 },
 "nbformat": 4,
 "nbformat_minor": 5
}
